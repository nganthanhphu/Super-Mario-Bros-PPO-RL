{
 "cells": [
  {
   "cell_type": "markdown",
   "id": "757e2fcb",
   "metadata": {},
   "source": [
    "# Install library"
   ]
  },
  {
   "cell_type": "code",
   "execution_count": null,
   "id": "96f519e2",
   "metadata": {},
   "outputs": [],
   "source": [
    "%pip install -q pip==23.3.2\n",
    "%pip install -q gym_super_mario_bros nes_py\n",
    "%pip install -q wheel==0.38.4 setuptools==66.0.0 gym==0.21.0\n",
    "%pip install -q numpy==1.26.4 opencv-python==4.8.0.76"
   ]
  },
  {
   "cell_type": "code",
   "execution_count": null,
   "id": "1163c4b4",
   "metadata": {},
   "outputs": [],
   "source": [
    "%pip install -q torch==2.1.1 torchvision==0.16.1 torchaudio==2.1.1 --index-url https://download.pytorch.org/whl/cu121"
   ]
  },
  {
   "cell_type": "code",
   "execution_count": null,
   "id": "1846293a",
   "metadata": {},
   "outputs": [],
   "source": [
    "%pip install -q stable-baselines3[extra]==1.5.0"
   ]
  },
  {
   "cell_type": "code",
   "execution_count": null,
   "id": "c3379c6a",
   "metadata": {},
   "outputs": [],
   "source": [
    "import torch\n",
    "\n",
    "if torch.cuda.is_available():\n",
    "    device = torch.device(\"cuda\")\n",
    "    print(f\"CUDA is available. Using device: {torch.cuda.get_device_name(0)}\")\n",
    "else:\n",
    "    device = torch.device(\"cpu\")\n",
    "    print(\"CUDA is not available. Using CPU.\")"
   ]
  },
  {
   "cell_type": "markdown",
   "id": "2c8604af",
   "metadata": {},
   "source": [
    "# Setup environment and wrappers\n"
   ]
  },
  {
   "cell_type": "code",
   "execution_count": null,
   "id": "9ff2fac9",
   "metadata": {},
   "outputs": [],
   "source": [
    "import gym_super_mario_bros\n",
    "from gym_super_mario_bros.actions import SIMPLE_MOVEMENT\n",
    "from nes_py.wrappers import JoypadSpace\n",
    "from gym.wrappers import GrayScaleObservation, ResizeObservation\n",
    "from stable_baselines3.common.vec_env import VecFrameStack, DummyVecEnv\n",
    "from stable_baselines3.common.monitor import Monitor"
   ]
  },
  {
   "cell_type": "code",
   "execution_count": null,
   "id": "161c9866",
   "metadata": {},
   "outputs": [],
   "source": [
    "from gym import RewardWrapper\n",
    "\n",
    "class CustomRewardWrapper(RewardWrapper):\n",
    "    def __init__(self, env):\n",
    "        super().__init__(env)\n",
    "        self.curr_score = 0\n",
    "\n",
    "    def reset(self, **kwargs):\n",
    "        self.curr_score = 0\n",
    "        return self.env.reset(**kwargs)\n",
    "\n",
    "    def step(self, action):\n",
    "        state, reward, done, info = self.env.step(action)\n",
    "        reward += (info[\"score\"] - self.curr_score) / 40.\n",
    "\n",
    "        self.curr_score = info[\"score\"]\n",
    "\n",
    "        if done:\n",
    "            if info[\"flag_get\"]:\n",
    "                reward += 50\n",
    "            else:\n",
    "                reward -= 50\n",
    "\n",
    "        return state, reward/10, done, info"
   ]
  },
  {
   "cell_type": "code",
   "execution_count": null,
   "id": "ea26463f",
   "metadata": {},
   "outputs": [],
   "source": [
    "from gym import Wrapper\n",
    "\n",
    "class SkipFrame(Wrapper):\n",
    "    def __init__(self, env, skip):\n",
    "        super().__init__(env)\n",
    "        self._skip = skip\n",
    "\n",
    "    def step(self, action):\n",
    "        total_reward = 0.0\n",
    "        done = False\n",
    "        for i in range(self._skip):\n",
    "            state, reward, done, info = self.env.step(action)\n",
    "            total_reward += reward\n",
    "            if done:\n",
    "                break\n",
    "        return state, total_reward, done, info"
   ]
  },
  {
   "cell_type": "code",
   "execution_count": null,
   "id": "cecd7ce9",
   "metadata": {},
   "outputs": [],
   "source": [
    "def create_env():\n",
    "    env = gym_super_mario_bros.make('SuperMarioBros-1-1-v0')\n",
    "    env = JoypadSpace(env, SIMPLE_MOVEMENT)\n",
    "    env = CustomRewardWrapper(env)\n",
    "    env = SkipFrame(env, skip=4)\n",
    "    env = GrayScaleObservation(env, keep_dim=True)\n",
    "    env = ResizeObservation(env,    (84, 84))\n",
    "    env = Monitor(env)\n",
    "    env = DummyVecEnv([lambda: env])\n",
    "    env = VecFrameStack(env, 4, channels_order='last')\n",
    "    return env"
   ]
  },
  {
   "cell_type": "code",
   "execution_count": null,
   "id": "99a89a6b",
   "metadata": {},
   "outputs": [],
   "source": [
    "env = create_env()"
   ]
  },
  {
   "cell_type": "markdown",
   "id": "da39a542",
   "metadata": {},
   "source": [
    "# Training"
   ]
  },
  {
   "cell_type": "code",
   "execution_count": null,
   "id": "cf489370",
   "metadata": {},
   "outputs": [],
   "source": [
    "import os \n",
    "from stable_baselines3 import PPO"
   ]
  },
  {
   "cell_type": "code",
   "execution_count": null,
   "id": "032afaa4",
   "metadata": {},
   "outputs": [],
   "source": [
    "CHECKPOINT_DIR = './train/'\n",
    "LOG_DIR = './logs/'"
   ]
  },
  {
   "cell_type": "code",
   "execution_count": null,
   "id": "7cce3a9a",
   "metadata": {},
   "outputs": [],
   "source": [
    "model = PPO(\n",
    "    'CnnPolicy',\n",
    "    env,\n",
    "    verbose=1,\n",
    "    learning_rate=0.0001,\n",
    "    n_steps=512,\n",
    "    device =\"auto\",\n",
    "    gae_lambda=1.0,\n",
    "    ent_coef=0.01,\n",
    "    gamma=0.9,\n",
    "    batch_size=64,\n",
    "    n_epochs=10,\n",
    "    tensorboard_log=LOG_DIR\n",
    ")"
   ]
  },
  {
   "cell_type": "code",
   "execution_count": null,
   "id": "a7a55460",
   "metadata": {},
   "outputs": [],
   "source": [
    "from stable_baselines3.common.callbacks import BaseCallback\n",
    "# import numpy as np\n",
    "\n",
    "class TrainingProgressMonitor(BaseCallback):\n",
    "\n",
    "    def __init__(self, check_freq, save_path, verbose=1):\n",
    "        super().__init__(verbose)\n",
    "        self.check_freq = check_freq\n",
    "        self.save_path = save_path\n",
    "\n",
    "    def _init_callback(self):\n",
    "        if self.save_path is not None:\n",
    "            os.makedirs(self.save_path, exist_ok=True)\n",
    "\n",
    "    def _on_step(self):\n",
    "        if self.model.num_timesteps % self.check_freq == 0 and self.model.num_timesteps > 0:\n",
    "            model_path = os.path.join(self.save_path, 'model_{}_steps'.format(self.model.num_timesteps))\n",
    "            self.model.save(model_path)  \n",
    "        return True"
   ]
  },
  {
   "cell_type": "code",
   "execution_count": null,
   "id": "33738c73",
   "metadata": {},
   "outputs": [],
   "source": [
    "callback = TrainingProgressMonitor(check_freq=200000, save_path=CHECKPOINT_DIR)"
   ]
  },
  {
   "cell_type": "code",
   "execution_count": null,
   "id": "50909b14",
   "metadata": {},
   "outputs": [],
   "source": [
    "model.learn(total_timesteps=5_000_000, callback=callback)"
   ]
  },
  {
   "cell_type": "markdown",
   "id": "2f374a70",
   "metadata": {},
   "source": [
    "# Test"
   ]
  },
  {
   "cell_type": "code",
   "execution_count": null,
   "id": "728e2b92",
   "metadata": {},
   "outputs": [],
   "source": [
    "model = PPO.load('./train/model_5000000_steps', env=env)"
   ]
  },
  {
   "cell_type": "code",
   "execution_count": null,
   "id": "c537fdb5",
   "metadata": {},
   "outputs": [],
   "source": [
    "import time\n",
    "\n",
    "state = env.reset()\n",
    "num_epsisodes = 10\n",
    "total_rewards = 0\n",
    "total_steps = 0\n",
    "total_flags = 0\n",
    "i = 0\n",
    "try:\n",
    "    while i < num_epsisodes:\n",
    "        action, _ = model.predict(state)\n",
    "        state, reward, done, info = env.step(action)\n",
    "        total_rewards += reward\n",
    "        total_steps += 1\n",
    "        if info[0].get(\"flag_get\"):\n",
    "            total_flags += 1\n",
    "        env.render()\n",
    "        time.sleep(1/100)\n",
    "        if done:\n",
    "            state = env.reset()\n",
    "            i += 1\n",
    "    print(\"Number of episodes:\", num_epsisodes)\n",
    "    print(f\"Mean reward: {total_rewards/num_epsisodes}\")\n",
    "    print(f\"Mean steps: {total_steps/num_epsisodes}\")\n",
    "    print(f\"Total flags: {total_flags}\")\n",
    "    env.close()\n",
    "\n",
    "except KeyboardInterrupt:\n",
    "    print(\"\\nInterrupted by user. Closing environment...\")\n",
    "    env.close()\n",
    "    env = create_env()"
   ]
  }
 ],
 "metadata": {
  "kernelspec": {
   "display_name": ".venv",
   "language": "python",
   "name": "python3"
  },
  "language_info": {
   "codemirror_mode": {
    "name": "ipython",
    "version": 3
   },
   "file_extension": ".py",
   "mimetype": "text/x-python",
   "name": "python",
   "nbconvert_exporter": "python",
   "pygments_lexer": "ipython3",
   "version": "3.10.11"
  }
 },
 "nbformat": 4,
 "nbformat_minor": 5
}
